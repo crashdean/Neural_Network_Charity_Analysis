{
 "cells": [
  {
   "cell_type": "code",
   "execution_count": null,
   "id": "35528356",
   "metadata": {},
   "outputs": [],
   "source": [
    "# Import our dependencies\n",
    "from sklearn.model_selection import train_test_split\n",
    "from sklearn.preprocessing import StandardScaler,OneHotEncoder\n",
    "import pandas as pd\n",
    "import tensorflow as tf\n",
    "\n",
    "#  Import and read the charity_data.csv.\n",
    "import pandas as pd \n",
    "application_df = pd.read_csv(\"Resources/charity_data.csv\")\n",
    "application_df.head()"
   ]
  },
  {
   "cell_type": "code",
   "execution_count": null,
   "id": "1a436f70",
   "metadata": {},
   "outputs": [],
   "source": [
    "# Drop non-beneficial ID columns\n",
    "application_df = application_df.drop(columns=['EIN', 'NAME', 'STATUS', 'SPECIAL_CONSIDERATIONS'])"
   ]
  },
  {
   "cell_type": "code",
   "execution_count": null,
   "id": "2b379040",
   "metadata": {},
   "outputs": [],
   "source": [
    "# APPLICATION_TYPE value counts for binning\n",
    "application_values = application_df['APPLICATION_TYPE'].value_counts()\n",
    "\n",
    "# Determine which values to replace if counts are less than 1000\n",
    "replace_application = application_values[application_values < 1000].index.tolist()\n",
    "\n",
    "# Replace in dataframe\n",
    "for app in replace_application:\n",
    "    application_df.APPLICATION_TYPE = application_df.APPLICATION_TYPE.replace(app, 'Other')"
   ]
  },
  {
   "cell_type": "code",
   "execution_count": null,
   "id": "a0488fab",
   "metadata": {},
   "outputs": [],
   "source": [
    "# CLASSIFICATION value counts for binning\n",
    "classification_values = application_df['CLASSIFICATION'].value_counts()\n",
    "\n",
    "# Determine which values to replace if counts are less than 1000\n",
    "replace_class = classification_values[classification_values < 1000].index.tolist()\n",
    "\n",
    "# Replace in dataframe\n",
    "for cls in replace_class:\n",
    "    application_df.CLASSIFICATION = application_df.CLASSIFICATION.replace(cls, 'Other')"
   ]
  },
  {
   "cell_type": "code",
   "execution_count": null,
   "id": "22f7b7ee",
   "metadata": {},
   "outputs": [],
   "source": [
    "# ASK_AMT bins\n",
    "ask_values_0 = application_df['ASK_AMT'][application_df['ASK_AMT'] == 5000]\n",
    "ask_values_1 = application_df['ASK_AMT'][(application_df['ASK_AMT'] > 5000)]\n",
    "\n",
    "# Replace in dataframe\n",
    "for amt in ask_values_0:\n",
    "    application_df.ASK_AMT = application_df.ASK_AMT.replace(amt, '5000')\n",
    "for amt in ask_values_1:\n",
    "    application_df.ASK_AMT = application_df.ASK_AMT.replace(amt, '>5000')"
   ]
  },
  {
   "cell_type": "code",
   "execution_count": null,
   "id": "b632fba2",
   "metadata": {},
   "outputs": [],
   "source": [
    "# AFFILIATION value counts for binning\n",
    "affiliation_values = application_df['AFFILIATION'].value_counts()\n",
    "\n",
    "# Determine which values to replace if counts are less than 1000\n",
    "replace_affiliation = affiliation_values[affiliation_values < 1000].index.tolist()\n",
    "\n",
    "# Replace in dataframe\n",
    "for aff in replace_affiliation:\n",
    "    application_df.AFFILIATION = application_df.AFFILIATION.replace(aff, 'Other')"
   ]
  },
  {
   "cell_type": "code",
   "execution_count": null,
   "id": "d7e02713",
   "metadata": {},
   "outputs": [],
   "source": [
    "# ORGANIZATION value counts for binning\n",
    "organization_values = application_df['ORGANIZATION'].value_counts()\n",
    "\n",
    "# Determine which values to replace if counts are less than 1000\n",
    "replace_organization = organization_values[organization_values < 1000].index.tolist()\n",
    "\n",
    "# Replace in dataframe\n",
    "for org in replace_organization:\n",
    "    application_df.ORGANIZATION = application_df.ORGANIZATION.replace(org, 'Other')"
   ]
  },
  {
   "cell_type": "code",
   "execution_count": null,
   "id": "0083b565",
   "metadata": {},
   "outputs": [],
   "source": [
    "# Generate the categorical variable list\n",
    "application_cat = application_df.dtypes[application_df.dtypes == \"object\"].index.tolist()"
   ]
  },
  {
   "cell_type": "code",
   "execution_count": null,
   "id": "d21f2865",
   "metadata": {},
   "outputs": [],
   "source": [
    "# Create a OneHotEncoder instance\n",
    "enc = OneHotEncoder(sparse=False)\n",
    "\n",
    "# Fit and transform the OneHotEncoder using the categorical variable list\n",
    "encode_df = pd.DataFrame(enc.fit_transform(application_df[application_cat]))\n",
    "\n",
    "# Add the encoded variable names to the dataframe\n",
    "encode_df.columns = enc.get_feature_names(application_cat)"
   ]
  },
  {
   "cell_type": "code",
   "execution_count": null,
   "id": "d7b7796f",
   "metadata": {},
   "outputs": [],
   "source": [
    "# Merge one-hot encoded features and drop the originals\n",
    "application_df = application_df.merge(encode_df, left_index=True, right_index=True)\n",
    "application_df = application_df.drop(application_cat, 1)"
   ]
  },
  {
   "cell_type": "code",
   "execution_count": null,
   "id": "493d3974",
   "metadata": {},
   "outputs": [],
   "source": [
    "# Split the preprocessed data into features and target arrays\n",
    "y = application_df['IS_SUCCESSFUL'].values\n",
    "X = application_df.drop(['IS_SUCCESSFUL'], 1).values\n",
    "\n",
    "# Split the preprocessed data into a training and testing dataset\n",
    "X_train, X_test, y_train, y_test = train_test_split(X, y, random_state=78)"
   ]
  },
  {
   "cell_type": "code",
   "execution_count": null,
   "id": "87154cea",
   "metadata": {},
   "outputs": [],
   "source": [
    "# Create a StandardScaler instances\n",
    "scaler = StandardScaler()\n",
    "\n",
    "# Fit the StandardScaler\n",
    "X_scaler = scaler.fit(X_train)\n",
    "\n",
    "# Scale the data\n",
    "X_train_scaled = X_scaler.transform(X_train)\n",
    "X_test_scaled = X_scaler.transform(X_test)"
   ]
  },
  {
   "cell_type": "code",
   "execution_count": null,
   "id": "0f487fc0",
   "metadata": {},
   "outputs": [],
   "source": [
    "# Define the model - deep neural net, i.e., the number of input features and hidden nodes for each layer.\n",
    "number_input_features = len(X_train[0])\n",
    "hidden_nodes_layer1 = 50\n",
    "hidden_nodes_layer2 = 30\n",
    "hidden_nodes_layer3 = 20\n",
    "\n",
    "nn = tf.keras.models.Sequential()\n",
    "\n",
    "# First hidden layer\n",
    "nn.add(\n",
    "    tf.keras.layers.Dense(units=hidden_nodes_layer1, input_dim=number_input_features, activation=\"sigmoid\"))\n",
    "\n",
    "# Second hidden layer\n",
    "nn.add(tf.keras.layers.Dense(units=hidden_nodes_layer2, activation='relu'))\n",
    "\n",
    "# Third hiZdden layer\n",
    "nn.add(tf.keras.layers.Dense(units=hidden_nodes_layer3, activation='relu'))\n",
    "\n",
    "# Output layer\n",
    "nn.add(tf.keras.layers.Dense(units=1, activation='sigmoid'))\n",
    "\n",
    "# Check the structure of the model\n",
    "nn.summary()"
   ]
  },
  {
   "cell_type": "code",
   "execution_count": null,
   "id": "937ed636",
   "metadata": {},
   "outputs": [],
   "source": [
    "# Compile the model\n",
    "nn.compile(loss='binary_crossentropy', optimizer='adam', metrics=['accuracy'])"
   ]
  },
  {
   "cell_type": "code",
   "execution_count": null,
   "id": "1250b312",
   "metadata": {},
   "outputs": [],
   "source": [
    "import os\n",
    "from tensorflow.keras.callbacks import ModelCheckpoint\n",
    "\n",
    "# Define the checkpoint path and filenames\n",
    "os.makedirs('optimized_checkpoints/', exist_ok=True)\n",
    "checkpoint_path = 'optimized_checkpoints/weights.{epoch:02d}.hdf5'\n",
    "\n",
    "# Create a callback that saves the model's weights every 5 epochs\n",
    "cp_callback = ModelCheckpoint(\n",
    "    filepath=checkpoint_path,\n",
    "    verbose=1,\n",
    "    save_weights_only=True,\n",
    "    save_freq=4000)\n",
    "# Train the model\n",
    "fit_model = nn.fit(X_train_scaled, y_train, epochs=100, callbacks=[cp_callback])"
   ]
  },
  {
   "cell_type": "code",
   "execution_count": null,
   "id": "c041041a",
   "metadata": {},
   "outputs": [],
   "source": [
    "# Evaluate the model using the test data\n",
    "model_loss, model_accuracy = nn.evaluate(X_test_scaled,y_test,verbose=2)\n",
    "print(f\"Loss: {model_loss}, Accuracy: {model_accuracy}\")"
   ]
  },
  {
   "cell_type": "code",
   "execution_count": null,
   "id": "30969800",
   "metadata": {},
   "outputs": [],
   "source": [
    "# Export the model to HDF5 file\n",
    "nn.save(\"Resources/AlphabetSoupCharity_optimization3.h5\")"
   ]
  },
  {
   "cell_type": "code",
   "execution_count": null,
   "id": "23e2b903",
   "metadata": {},
   "outputs": [],
   "source": []
  },
  {
   "cell_type": "code",
   "execution_count": null,
   "id": "8fd92e3b",
   "metadata": {},
   "outputs": [],
   "source": []
  }
 ],
 "metadata": {
  "kernelspec": {
   "display_name": "mlenv",
   "language": "python",
   "name": "mlenv"
  },
  "language_info": {
   "codemirror_mode": {
    "name": "ipython",
    "version": 3
   },
   "file_extension": ".py",
   "mimetype": "text/x-python",
   "name": "python",
   "nbconvert_exporter": "python",
   "pygments_lexer": "ipython3",
   "version": "3.7.15"
  }
 },
 "nbformat": 4,
 "nbformat_minor": 5
}
